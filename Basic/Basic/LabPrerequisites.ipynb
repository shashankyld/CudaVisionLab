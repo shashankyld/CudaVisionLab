{
 "cells": [
  {
   "cell_type": "markdown",
   "metadata": {},
   "source": [
    "# Lab Prerequisites\n",
    "\n",
    "For the most part of the lab, we will be using Jupyter Notebooks to code, display results and document our work.\n",
    "\n",
    "Probably most of you have already worked with these. We will also review the basics during the first session.\n",
    "In any case, here are two nice tutorials in case you want some references.\n",
    " - https://jupyter-tutorial.readthedocs.io/en/latest/\n",
    " - https://realpython.com/jupyter-notebook-introduction/\n",
    "\n",
    "In addition to Jupyter, we need to install several packages in order to run the Lab material.\n",
    "An easy way to manage packages and versions is to use <a herf=\"https://www.anaconda.com/distribution/\" style=\"font-weight:bold; color:blue\">Anaconda</a>.\n",
    "I recommend using Conda in the lab to manage the work environments, it also makes it easy to work in groups."
   ]
  },
  {
   "cell_type": "markdown",
   "metadata": {},
   "source": [
    "# Organization\n",
    "\n",
    "The materials for the lab will be provided through the <a href=\"https://www.ais.uni-bonn.de/WS2324/P_CudaVision.html\" style=\"font-weight:bold;color:blue\">course website</a>.\n",
    "\n",
    " - **Username**: CudaLabWS2324\n",
    " - **Password**: upernet"
   ]
  },
  {
   "cell_type": "markdown",
   "metadata": {},
   "source": [
    "# What We Need in this Lab\n",
    "\n",
    " - Connect to a Server\n",
    " - Anaconda\n",
    " - Installed Packages\n",
    " - Cuda and NVIDIA Drivers\n",
    " - Python IDe or Editor\n",
    " - Github"
   ]
  },
  {
   "cell_type": "markdown",
   "metadata": {},
   "source": [
    "## 0. Connect to a Server\n",
    "\n",
    "You can access the GPUs by connecting to one of the computer science servers and running \n",
    "your code or the notebooks directly in the server \n",
    "\n",
    "```bash\n",
    "ssh INF-ID@cuda7.informatik.uni-bonn.de\n",
    "```\n",
    "\n",
    "**Important**: To access our Cuda machines, I need to add you first to the list of accepted users. Please send me you Informatik-ID so that I can grant you access rights.\n",
    "\n",
    "<br>\n",
    "\n",
    "Another option is to use some third party hardware. **Google Colab** (recommended) or **Kaggle Kernels** allow you\n",
    "to run Jupyter Notebooks on powerful GPUs and even TPUs.\n",
    " - https://towardsdatascience.com/getting-started-with-google-colab-f2fff97f594c\n",
    " - https://towardsdatascience.com/kaggle-kernels-for-beginners-a-step-by-step-guide-3db6b1cd7606\n",
    " \n",
    "You can freely access the servers from the computer science department. However, there might be issues with too many people trying to use the GPUs at the same time: not enough memory or slow computing. Therefore, I encourage you to use Google Colab to avoid these potential issues."
   ]
  },
  {
   "cell_type": "markdown",
   "metadata": {},
   "source": [
    "## 1. Anaconda \n",
    "\n",
    "I recommend using Anaconda to manage packages and work environments. This is very convenient to work in groups while avoiding dependency and version issues.\n",
    "Another option is to use *Docker*, but I would rather use Anaconda in this lab.\n",
    "\n",
    " - In your local machine: Install Anaconda from https://www.anaconda.com/distribution/. I recommend a version for 3.8 or superior.\n",
    " - In the remote server: Installation tutorial: https://stackoverflow.com/questions/54226763/installing-anaconda-on-server\n"
   ]
  },
  {
   "cell_type": "markdown",
   "metadata": {},
   "source": [
    "## 2. Install Packages\n",
    "\n",
    "For the lab we will require the standard deep learning and scientific computing packages: Numpy, Matplotlib, PyTorch, Jupyter, ...\n",
    "\n",
    "For simplicity, I have exported a *.yml* file containing most of what we will need in the lab. \n",
    "Create a Conda environmnent using the *environment.yml* file provided.\n",
    "\n",
    " - 1: Create the environment from the *environment.yml* file: \n",
    "      ```\n",
    "      conda env create -f environment.yml\n",
    "      ```\n",
    "      \n",
    "- 2: Activate the new environment: \n",
    "          conda activate CudaLab\n",
    "      \n",
    "      \n",
    "- 3: Verify that the new environment was installed correctly:\n",
    "     ```\n",
    "     conda env list\n",
    "     \n",
    "     conda list\n",
    "     ```"
   ]
  },
  {
   "cell_type": "markdown",
   "metadata": {},
   "source": [
    "## 3. Cuda and NVIDIA Drivers\n",
    "\n",
    "We will need NVIDIA drivers and Cuda in order to accelerate our code with GPUs, i.e., *nvidia-driver-390, nvidia-cuda-dev and nvidia-cuda-toolkit*<br>\n",
    "These drivers are needed to parallelize your code using a GPU.\n",
    "\n",
    "Connect to one of the university servers, and run the following command:\n",
    "  ```bash\n",
    "  nvidia-smi\n",
    "  ```\n",
    "  \n",
    "You should see something that looks like the following:<br>\n",
    "<img src=\"img/nvidia.png\" width=600 height=300 />"
   ]
  },
  {
   "cell_type": "markdown",
   "metadata": {},
   "source": [
    "## 4. Python IDE or Editor\n",
    "\n",
    "Jupyter is very convenient for debugging and prototyping. However, it is not a good practice to have large blocks of code (e.g., neural network definitions, dataset preprocessing or other functionalities) in the notebooks.\n",
    "\n",
    "Jupyter has its own text editor, hence we can create and modify *.py* files directly from Jupyter. Furthermore, modern editors and IDEs (PyChar, VSCode or Atom) have ssh functionalities that also allow us to run our code on remote servers using the FTP and SSH protocols (I will explain this during the first session).\n",
    "\n",
    " - Please install a Python IDE or Editor of your choice"
   ]
  },
  {
   "cell_type": "markdown",
   "metadata": {},
   "source": [
    "## 5. GitHub\n",
    "\n",
    "Although not required for the lab, I recommend using some version control software (i.e., GitHub, GitLab or BitBucket) for the project.\n",
    "This is a good engineering practice, used pretty much everywhere in industry and academia.\n",
    "\n",
    "If you have never worked with Git before, I encourage you to start using it during the lab. It is a valuable skill \n",
    "that also makes live easier when coding with other people.\n",
    "\n",
    "Some references: \n",
    " - https://www.vogella.com/tutorials/Git/article.html\n",
    " - https://guides.github.com/activities/hello-world/"
   ]
  },
  {
   "cell_type": "markdown",
   "metadata": {},
   "source": [
    "<div class=alert style=\"background-color:#F5F5F5; border-color:#C8C8C8\">\n",
    "    This notebook was created by <b>Angel Villar-Corrales</b><br>\n",
    "    <ul>\n",
    "       <li> <b>Email</b>: villar@ais.uni-bonn.de\n",
    "       <li> <b>Website</b>: angelvillarcorrales.com\n",
    "    </ul>\n",
    "</div> "
   ]
  }
 ],
 "metadata": {
  "kernelspec": {
   "display_name": "Python 3 (ipykernel)",
   "language": "python",
   "name": "python3"
  },
  "language_info": {
   "codemirror_mode": {
    "name": "ipython",
    "version": 3
   },
   "file_extension": ".py",
   "mimetype": "text/x-python",
   "name": "python",
   "nbconvert_exporter": "python",
   "pygments_lexer": "ipython3",
   "version": "3.9.12"
  }
 },
 "nbformat": 4,
 "nbformat_minor": 4
}
